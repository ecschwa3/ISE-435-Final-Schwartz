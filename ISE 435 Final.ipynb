{
 "cells": [
  {
   "cell_type": "code",
   "execution_count": 123,
   "id": "59e5bf66",
   "metadata": {},
   "outputs": [],
   "source": [
    "import pandas as pd"
   ]
  },
  {
   "cell_type": "code",
   "execution_count": 124,
   "id": "8cfd4592",
   "metadata": {},
   "outputs": [],
   "source": [
    "import numpy as np"
   ]
  },
  {
   "cell_type": "code",
   "execution_count": 125,
   "id": "9dff2f4a",
   "metadata": {},
   "outputs": [],
   "source": [
    "from matplotlib import pyplot as plt"
   ]
  },
  {
   "cell_type": "code",
   "execution_count": 218,
   "id": "3fb4f955",
   "metadata": {},
   "outputs": [
    {
     "data": {
      "text/html": [
       "<div>\n",
       "<style scoped>\n",
       "    .dataframe tbody tr th:only-of-type {\n",
       "        vertical-align: middle;\n",
       "    }\n",
       "\n",
       "    .dataframe tbody tr th {\n",
       "        vertical-align: top;\n",
       "    }\n",
       "\n",
       "    .dataframe thead th {\n",
       "        text-align: right;\n",
       "    }\n",
       "</style>\n",
       "<table border=\"1\" class=\"dataframe\">\n",
       "  <thead>\n",
       "    <tr style=\"text-align: right;\">\n",
       "      <th></th>\n",
       "      <th>State</th>\n",
       "      <th>City</th>\n",
       "      <th>Year</th>\n",
       "      <th>Population</th>\n",
       "      <th>Violent Crime</th>\n",
       "      <th>Murder</th>\n",
       "      <th>Rape</th>\n",
       "      <th>Robbery</th>\n",
       "      <th>Aggravated assault</th>\n",
       "      <th>Property Crime</th>\n",
       "      <th>Burglary</th>\n",
       "      <th>Larceny Theft</th>\n",
       "      <th>Motor Vehicle Theft</th>\n",
       "      <th>Arson</th>\n",
       "    </tr>\n",
       "  </thead>\n",
       "  <tbody>\n",
       "    <tr>\n",
       "      <th>0</th>\n",
       "      <td>ALABAMA</td>\n",
       "      <td>HUNTSVILLE4</td>\n",
       "      <td>2018.0</td>\n",
       "      <td>196620</td>\n",
       "      <td>NaN</td>\n",
       "      <td>NaN</td>\n",
       "      <td>NaN</td>\n",
       "      <td>NaN</td>\n",
       "      <td>NaN</td>\n",
       "      <td>NaN</td>\n",
       "      <td>NaN</td>\n",
       "      <td>NaN</td>\n",
       "      <td>NaN</td>\n",
       "      <td>NaN</td>\n",
       "    </tr>\n",
       "    <tr>\n",
       "      <th>1</th>\n",
       "      <td>ALABAMA</td>\n",
       "      <td>HUNTSVILLE4</td>\n",
       "      <td>2019.0</td>\n",
       "      <td>196620</td>\n",
       "      <td>872.0</td>\n",
       "      <td>12.0</td>\n",
       "      <td>79.0</td>\n",
       "      <td>159.0</td>\n",
       "      <td>622.0</td>\n",
       "      <td>3854.0</td>\n",
       "      <td>554.0</td>\n",
       "      <td>2804.0</td>\n",
       "      <td>496.0</td>\n",
       "      <td>NaN</td>\n",
       "    </tr>\n",
       "  </tbody>\n",
       "</table>\n",
       "</div>"
      ],
      "text/plain": [
       "     State         City    Year  Population  Violent Crime  Murder  Rape  \\\n",
       "0  ALABAMA  HUNTSVILLE4  2018.0      196620            NaN     NaN   NaN   \n",
       "1  ALABAMA  HUNTSVILLE4  2019.0      196620          872.0    12.0  79.0   \n",
       "\n",
       "   Robbery  Aggravated assault  Property Crime  Burglary  Larceny Theft  \\\n",
       "0      NaN                 NaN             NaN       NaN            NaN   \n",
       "1    159.0               622.0          3854.0     554.0         2804.0   \n",
       "\n",
       "   Motor Vehicle Theft  Arson  \n",
       "0                  NaN    NaN  \n",
       "1                496.0    NaN  "
      ]
     },
     "execution_count": 218,
     "metadata": {},
     "output_type": "execute_result"
    }
   ],
   "source": [
    "df = pd.read_csv('Crime.csv')\n",
    "df.head(2)\n",
    "#proof that file is open and working"
   ]
  },
  {
   "cell_type": "code",
   "execution_count": 219,
   "id": "43fed1f1",
   "metadata": {},
   "outputs": [],
   "source": [
    "#This function serves to validate that the user has asked for a city that is in the dataframe\n",
    "def findCity(city):\n",
    "    x = 0\n",
    "    while x == 0:\n",
    "        city_count = df['City'].str.contains(city).sum()\n",
    "        pop_count = df.loc[df['City'] == city,'Population'].sum()\n",
    "        \n",
    "        if city_count > 0 and pop_count > 0:\n",
    "            return city\n",
    "            x = 1\n",
    "            #Validation of city (True)\n",
    "        else: \n",
    "            print('That City in not listed please enter a new city')\n",
    "            city = input('What city would you like to know about: ').upper()\n",
    "            x = 0\n",
    "            #Invalidation of city (False)"
   ]
  },
  {
   "cell_type": "code",
   "execution_count": 220,
   "id": "7b3921d1",
   "metadata": {},
   "outputs": [],
   "source": [
    "#This function determines the year that the user would like to get data from and compiles it into a single dataframe\n",
    "def findYear (city, year):\n",
    "    filterDf = df[(df['City'] == city) & (df['Year'] == year)]\n",
    "    return filterDf"
   ]
  },
  {
   "cell_type": "code",
   "execution_count": 221,
   "id": "6d0b001e",
   "metadata": {},
   "outputs": [],
   "source": [
    "#This function removes string variables as well as non-pertinent numerical data to be used in the pie graph\n",
    "def pieData(filteredDf):\n",
    "    pieDataFrame = filteredDf.drop(columns=['State', 'City','Population','Year'])\n",
    "    return pieDataFrame"
   ]
  },
  {
   "cell_type": "code",
   "execution_count": 222,
   "id": "0d29a273",
   "metadata": {},
   "outputs": [
    {
     "name": "stdout",
     "output_type": "stream",
     "text": [
      "What city would you like to know about: cary\n",
      "What year would you like to know about 2018 or 2019? 2019\n"
     ]
    },
    {
     "data": {
      "text/html": [
       "<div>\n",
       "<style scoped>\n",
       "    .dataframe tbody tr th:only-of-type {\n",
       "        vertical-align: middle;\n",
       "    }\n",
       "\n",
       "    .dataframe tbody tr th {\n",
       "        vertical-align: top;\n",
       "    }\n",
       "\n",
       "    .dataframe thead th {\n",
       "        text-align: right;\n",
       "    }\n",
       "</style>\n",
       "<table border=\"1\" class=\"dataframe\">\n",
       "  <thead>\n",
       "    <tr style=\"text-align: right;\">\n",
       "      <th></th>\n",
       "      <th>State</th>\n",
       "      <th>City</th>\n",
       "      <th>Year</th>\n",
       "      <th>Population</th>\n",
       "      <th>Violent Crime</th>\n",
       "      <th>Murder</th>\n",
       "      <th>Rape</th>\n",
       "      <th>Robbery</th>\n",
       "      <th>Aggravated assault</th>\n",
       "      <th>Property Crime</th>\n",
       "      <th>Burglary</th>\n",
       "      <th>Larceny Theft</th>\n",
       "      <th>Motor Vehicle Theft</th>\n",
       "      <th>Arson</th>\n",
       "    </tr>\n",
       "  </thead>\n",
       "  <tbody>\n",
       "    <tr>\n",
       "      <th>375</th>\n",
       "      <td>NORTH CAROLINA 5, 6, 8</td>\n",
       "      <td>CARY</td>\n",
       "      <td>2019.0</td>\n",
       "      <td>170518</td>\n",
       "      <td>56.0</td>\n",
       "      <td>0.0</td>\n",
       "      <td>6.0</td>\n",
       "      <td>19.0</td>\n",
       "      <td>31.0</td>\n",
       "      <td>703.0</td>\n",
       "      <td>93.0</td>\n",
       "      <td>578.0</td>\n",
       "      <td>32.0</td>\n",
       "      <td>0.0</td>\n",
       "    </tr>\n",
       "  </tbody>\n",
       "</table>\n",
       "</div>"
      ],
      "text/plain": [
       "                      State  City    Year  Population  Violent Crime  Murder  \\\n",
       "375  NORTH CAROLINA 5, 6, 8  CARY  2019.0      170518           56.0     0.0   \n",
       "\n",
       "     Rape  Robbery  Aggravated assault  Property Crime  Burglary  \\\n",
       "375   6.0     19.0                31.0           703.0      93.0   \n",
       "\n",
       "     Larceny Theft  Motor Vehicle Theft  Arson  \n",
       "375          578.0                 32.0    0.0  "
      ]
     },
     "execution_count": 222,
     "metadata": {},
     "output_type": "execute_result"
    },
    {
     "data": {
      "image/png": "[encoded data removed]",
      "text/plain": [
       "<Figure size 1080x1080 with 1 Axes>"
      ]
     },
     "metadata": {},
     "output_type": "display_data"
    }
   ],
   "source": [
    "#main body of code where user is prompted to give a city and a year of data they would like to review\n",
    "city = input('What city would you like to know about: ').upper()\n",
    "validCity = findCity(city)\n",
    "\n",
    "year = int(input('What year would you like to know about 2018 or 2019? '))\n",
    "dataYear = findYear(validCity, year)\n",
    "\n",
    "piePlot = pieData(dataYear)\n",
    "\n",
    "\n",
    "piePlot.T.plot.pie(subplots=True, figsize=(15, 15), title = f'Breakdown of crime in {city}')\n",
    "dataYear\n",
    "\n"
   ]
  },
  {
   "cell_type": "code",
   "execution_count": 223,
   "id": "22b7b509",
   "metadata": {},
   "outputs": [],
   "source": [
    "#data for the user to review and compare data from chosen city to national averages.\n",
    "fdata = df.drop(columns=['State', 'City','Population','Year'])\n",
    "national_avg = fdata.mean()"
   ]
  },
  {
   "cell_type": "code",
   "execution_count": 232,
   "id": "45c57ec1",
   "metadata": {},
   "outputs": [],
   "source": [
    "x = piePlot.iloc[0]\n",
    "y = national_avg\n",
    "\n"
   ]
  },
  {
   "cell_type": "code",
   "execution_count": 233,
   "id": "f1388cf8",
   "metadata": {},
   "outputs": [
    {
     "data": {
      "text/html": [
       "<div>\n",
       "<style scoped>\n",
       "    .dataframe tbody tr th:only-of-type {\n",
       "        vertical-align: middle;\n",
       "    }\n",
       "\n",
       "    .dataframe tbody tr th {\n",
       "        vertical-align: top;\n",
       "    }\n",
       "\n",
       "    .dataframe thead th {\n",
       "        text-align: right;\n",
       "    }\n",
       "</style>\n",
       "<table border=\"1\" class=\"dataframe\">\n",
       "  <thead>\n",
       "    <tr style=\"text-align: right;\">\n",
       "      <th></th>\n",
       "      <th>375</th>\n",
       "      <th>0</th>\n",
       "    </tr>\n",
       "  </thead>\n",
       "  <tbody>\n",
       "    <tr>\n",
       "      <th>Violent Crime</th>\n",
       "      <td>56.0</td>\n",
       "      <td>961.429889</td>\n",
       "    </tr>\n",
       "    <tr>\n",
       "      <th>Murder</th>\n",
       "      <td>0.0</td>\n",
       "      <td>12.880218</td>\n",
       "    </tr>\n",
       "    <tr>\n",
       "      <th>Rape</th>\n",
       "      <td>6.0</td>\n",
       "      <td>88.721402</td>\n",
       "    </tr>\n",
       "    <tr>\n",
       "      <th>Robbery</th>\n",
       "      <td>19.0</td>\n",
       "      <td>266.315789</td>\n",
       "    </tr>\n",
       "    <tr>\n",
       "      <th>Aggravated assault</th>\n",
       "      <td>31.0</td>\n",
       "      <td>591.891107</td>\n",
       "    </tr>\n",
       "    <tr>\n",
       "      <th>Property Crime</th>\n",
       "      <td>703.0</td>\n",
       "      <td>4474.833638</td>\n",
       "    </tr>\n",
       "    <tr>\n",
       "      <th>Burglary</th>\n",
       "      <td>93.0</td>\n",
       "      <td>698.229508</td>\n",
       "    </tr>\n",
       "    <tr>\n",
       "      <th>Larceny Theft</th>\n",
       "      <td>578.0</td>\n",
       "      <td>3231.797814</td>\n",
       "    </tr>\n",
       "    <tr>\n",
       "      <th>Motor Vehicle Theft</th>\n",
       "      <td>32.0</td>\n",
       "      <td>577.533575</td>\n",
       "    </tr>\n",
       "    <tr>\n",
       "      <th>Arson</th>\n",
       "      <td>0.0</td>\n",
       "      <td>24.870229</td>\n",
       "    </tr>\n",
       "  </tbody>\n",
       "</table>\n",
       "</div>"
      ],
      "text/plain": [
       "                       375          0  \n",
       "Violent Crime         56.0   961.429889\n",
       "Murder                 0.0    12.880218\n",
       "Rape                   6.0    88.721402\n",
       "Robbery               19.0   266.315789\n",
       "Aggravated assault    31.0   591.891107\n",
       "Property Crime       703.0  4474.833638\n",
       "Burglary              93.0   698.229508\n",
       "Larceny Theft        578.0  3231.797814\n",
       "Motor Vehicle Theft   32.0   577.533575\n",
       "Arson                  0.0    24.870229"
      ]
     },
     "execution_count": 233,
     "metadata": {},
     "output_type": "execute_result"
    }
   ],
   "source": [
    "barCompare = pd.concat([x, y], axis=1)\n",
    "barCompare"
   ]
  },
  {
   "cell_type": "code",
   "execution_count": 234,
   "id": "f8b8caa6",
   "metadata": {},
   "outputs": [
    {
     "data": {
      "text/plain": [
       "<matplotlib.legend.Legend at 0x245e7fad5e0>"
      ]
     },
     "execution_count": 234,
     "metadata": {},
     "output_type": "execute_result"
    },
    {
     "data": {
      "image/png": "[encoded data removed]",
      "text/plain": [
       "<Figure size 720x720 with 1 Axes>"
      ]
     },
     "metadata": {
      "needs_background": "light"
     },
     "output_type": "display_data"
    }
   ],
   "source": [
    "memphis = 'Memphis'\n",
    "Nat_avg = 'National Average'\n",
    "\n",
    "ax = barCompare.plot.bar( figsize=(10, 10), title = f'National Average Breakdown of crime vs {city} in United States')\n",
    "ax.legend([city, \"National Average\"])"
   ]
  },
  {
   "cell_type": "code",
   "execution_count": null,
   "id": "8ce6877f",
   "metadata": {},
   "outputs": [],
   "source": []
  },
  {
   "cell_type": "code",
   "execution_count": null,
   "id": "db10fa91",
   "metadata": {},
   "outputs": [],
   "source": []
  },
  {
   "cell_type": "code",
   "execution_count": null,
   "id": "97319283",
   "metadata": {},
   "outputs": [],
   "source": []
  },
  {
   "cell_type": "code",
   "execution_count": null,
   "id": "a4fe09b0",
   "metadata": {},
   "outputs": [],
   "source": []
  },
  {
   "cell_type": "code",
   "execution_count": null,
   "id": "49f3b0ca",
   "metadata": {},
   "outputs": [],
   "source": []
  },
  {
   "cell_type": "code",
   "execution_count": null,
   "id": "63796cb2",
   "metadata": {},
   "outputs": [],
   "source": []
  }
 ],
 "metadata": {
  "kernelspec": {
   "display_name": "Python 3",
   "language": "python",
   "name": "python3"
  },
  "language_info": {
   "codemirror_mode": {
    "name": "ipython",
    "version": 3
   },
   "file_extension": ".py",
   "mimetype": "text/x-python",
   "name": "python",
   "nbconvert_exporter": "python",
   "pygments_lexer": "ipython3",
   "version": "3.8.8"
  }
 },
 "nbformat": 4,
 "nbformat_minor": 5
}
